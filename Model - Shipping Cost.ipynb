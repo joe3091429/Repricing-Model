{
 "cells": [
  {
   "cell_type": "markdown",
   "metadata": {},
   "source": [
    "## Model - Shipping Cost"
   ]
  },
  {
   "cell_type": "code",
   "execution_count": 1,
   "metadata": {},
   "outputs": [],
   "source": [
    "# Total: 7564 rows\n",
    "# Match Invoices: 7463 rows\n",
    "# Train data : Test data - 0.75 : 0.25\n",
    "\n",
    "import pandas as pd\n",
    "import numpy as np\n",
    "import matplotlib.pyplot as plt\n",
    "import seaborn as sns"
   ]
  },
  {
   "cell_type": "code",
   "execution_count": 2,
   "metadata": {},
   "outputs": [
    {
     "data": {
      "text/html": [
       "<div>\n",
       "<style scoped>\n",
       "    .dataframe tbody tr th:only-of-type {\n",
       "        vertical-align: middle;\n",
       "    }\n",
       "\n",
       "    .dataframe tbody tr th {\n",
       "        vertical-align: top;\n",
       "    }\n",
       "\n",
       "    .dataframe thead th {\n",
       "        text-align: right;\n",
       "    }\n",
       "</style>\n",
       "<table border=\"1\" class=\"dataframe\">\n",
       "  <thead>\n",
       "    <tr style=\"text-align: right;\">\n",
       "      <th></th>\n",
       "      <th>Sales Sku</th>\n",
       "      <th>Sales Order Number</th>\n",
       "      <th>Sales Order Date</th>\n",
       "      <th>Fulfillment Order Number</th>\n",
       "      <th>Fulfillment Channel Name</th>\n",
       "      <th>Quantity</th>\n",
       "      <th>Sku</th>\n",
       "      <th>Total Sales</th>\n",
       "      <th>Total Cost</th>\n",
       "      <th>Commission</th>\n",
       "      <th>Inventory Cost</th>\n",
       "      <th>Estimated Shipping Cost</th>\n",
       "      <th>Shipping Cost</th>\n",
       "      <th>Flag</th>\n",
       "      <th>Profit</th>\n",
       "      <th>Weight</th>\n",
       "      <th>Unnamed: 16</th>\n",
       "      <th>Unnamed: 17</th>\n",
       "    </tr>\n",
       "  </thead>\n",
       "  <tbody>\n",
       "    <tr>\n",
       "      <th>0</th>\n",
       "      <td>A1</td>\n",
       "      <td>11266930721184234</td>\n",
       "      <td>12/1/20</td>\n",
       "      <td>20025454</td>\n",
       "      <td>L</td>\n",
       "      <td>2</td>\n",
       "      <td>A1</td>\n",
       "      <td>12.39</td>\n",
       "      <td>12.5</td>\n",
       "      <td>0.99</td>\n",
       "      <td>6.9</td>\n",
       "      <td>4.61</td>\n",
       "      <td>4.75</td>\n",
       "      <td>1</td>\n",
       "      <td>-0.11</td>\n",
       "      <td>0.34</td>\n",
       "      <td>NaN</td>\n",
       "      <td>NaN</td>\n",
       "    </tr>\n",
       "  </tbody>\n",
       "</table>\n",
       "</div>"
      ],
      "text/plain": [
       "  Sales Sku  Sales Order Number Sales Order Date  Fulfillment Order Number  \\\n",
       "0        A1   11266930721184234          12/1/20                  20025454   \n",
       "\n",
       "  Fulfillment Channel Name  Quantity Sku  Total Sales  Total Cost  Commission  \\\n",
       "0                        L         2  A1        12.39        12.5        0.99   \n",
       "\n",
       "   Inventory Cost  Estimated Shipping Cost  Shipping Cost  Flag  Profit  \\\n",
       "0             6.9                     4.61           4.75     1   -0.11   \n",
       "\n",
       "   Weight  Unnamed: 16  Unnamed: 17  \n",
       "0    0.34          NaN          NaN  "
      ]
     },
     "execution_count": 2,
     "metadata": {},
     "output_type": "execute_result"
    }
   ],
   "source": [
    "data = pd.read_csv('data/weight_model_data.csv')\n",
    "data.head(1)"
   ]
  },
  {
   "cell_type": "code",
   "execution_count": 3,
   "metadata": {},
   "outputs": [
    {
     "data": {
      "text/plain": [
       "0        6.195000\n",
       "1        3.600000\n",
       "2        4.480833\n",
       "3        3.696667\n",
       "4       17.270000\n",
       "          ...    \n",
       "7457    11.720000\n",
       "7458     5.780000\n",
       "7459    10.075000\n",
       "7460     5.832500\n",
       "7461    12.475000\n",
       "Name: Unit_price, Length: 7462, dtype: float64"
      ]
     },
     "execution_count": 3,
     "metadata": {},
     "output_type": "execute_result"
    }
   ],
   "source": [
    "# Create a new variable for test\n",
    "data['Unit_price'] = data['Total Sales'] / data['Quantity']\n",
    "data['Unit_price']"
   ]
  },
  {
   "cell_type": "code",
   "execution_count": 4,
   "metadata": {},
   "outputs": [
    {
     "name": "stdout",
     "output_type": "stream",
     "text": [
      "<class 'pandas.core.frame.DataFrame'>\n",
      "RangeIndex: 7462 entries, 0 to 7461\n",
      "Data columns (total 19 columns):\n",
      " #   Column                    Non-Null Count  Dtype  \n",
      "---  ------                    --------------  -----  \n",
      " 0   Sales Sku                 7462 non-null   object \n",
      " 1   Sales Order Number        7462 non-null   int64  \n",
      " 2   Sales Order Date          7462 non-null   object \n",
      " 3   Fulfillment Order Number  7462 non-null   int64  \n",
      " 4   Fulfillment Channel Name  7462 non-null   object \n",
      " 5   Quantity                  7462 non-null   int64  \n",
      " 6   Sku                       7462 non-null   object \n",
      " 7   Total Sales               7462 non-null   float64\n",
      " 8   Total Cost                7462 non-null   float64\n",
      " 9   Commission                7462 non-null   float64\n",
      " 10  Inventory Cost            7462 non-null   float64\n",
      " 11  Estimated Shipping Cost   7462 non-null   float64\n",
      " 12  Shipping Cost             7462 non-null   float64\n",
      " 13  Flag                      7462 non-null   int64  \n",
      " 14  Profit                    7462 non-null   float64\n",
      " 15  Weight                    7462 non-null   float64\n",
      " 16  Unnamed: 16               0 non-null      float64\n",
      " 17  Unnamed: 17               0 non-null      float64\n",
      " 18  Unit_price                7462 non-null   float64\n",
      "dtypes: float64(11), int64(4), object(4)\n",
      "memory usage: 1.1+ MB\n"
     ]
    }
   ],
   "source": [
    "data.info()"
   ]
  },
  {
   "cell_type": "code",
   "execution_count": 5,
   "metadata": {},
   "outputs": [
    {
     "data": {
      "text/html": [
       "<div>\n",
       "<style scoped>\n",
       "    .dataframe tbody tr th:only-of-type {\n",
       "        vertical-align: middle;\n",
       "    }\n",
       "\n",
       "    .dataframe tbody tr th {\n",
       "        vertical-align: top;\n",
       "    }\n",
       "\n",
       "    .dataframe thead th {\n",
       "        text-align: right;\n",
       "    }\n",
       "</style>\n",
       "<table border=\"1\" class=\"dataframe\">\n",
       "  <thead>\n",
       "    <tr style=\"text-align: right;\">\n",
       "      <th></th>\n",
       "      <th>Sales Order Number</th>\n",
       "      <th>Fulfillment Order Number</th>\n",
       "      <th>Quantity</th>\n",
       "      <th>Total Sales</th>\n",
       "      <th>Total Cost</th>\n",
       "      <th>Commission</th>\n",
       "      <th>Inventory Cost</th>\n",
       "      <th>Estimated Shipping Cost</th>\n",
       "      <th>Shipping Cost</th>\n",
       "      <th>Flag</th>\n",
       "      <th>Profit</th>\n",
       "      <th>Weight</th>\n",
       "      <th>Unnamed: 16</th>\n",
       "      <th>Unnamed: 17</th>\n",
       "      <th>Unit_price</th>\n",
       "    </tr>\n",
       "  </thead>\n",
       "  <tbody>\n",
       "    <tr>\n",
       "      <th>count</th>\n",
       "      <td>7.462000e+03</td>\n",
       "      <td>7.462000e+03</td>\n",
       "      <td>7462.000000</td>\n",
       "      <td>7462.000000</td>\n",
       "      <td>7462.000000</td>\n",
       "      <td>7462.000000</td>\n",
       "      <td>7462.000000</td>\n",
       "      <td>7462.000000</td>\n",
       "      <td>7462.000000</td>\n",
       "      <td>7462.0</td>\n",
       "      <td>7462.000000</td>\n",
       "      <td>7462.000000</td>\n",
       "      <td>0.0</td>\n",
       "      <td>0.0</td>\n",
       "      <td>7462.000000</td>\n",
       "    </tr>\n",
       "    <tr>\n",
       "      <th>mean</th>\n",
       "      <td>1.130230e+16</td>\n",
       "      <td>2.003024e+07</td>\n",
       "      <td>6.532029</td>\n",
       "      <td>35.280478</td>\n",
       "      <td>35.239589</td>\n",
       "      <td>5.188621</td>\n",
       "      <td>20.088445</td>\n",
       "      <td>9.962522</td>\n",
       "      <td>8.086764</td>\n",
       "      <td>1.0</td>\n",
       "      <td>0.040890</td>\n",
       "      <td>5.303246</td>\n",
       "      <td>NaN</td>\n",
       "      <td>NaN</td>\n",
       "      <td>10.837697</td>\n",
       "    </tr>\n",
       "    <tr>\n",
       "      <th>std</th>\n",
       "      <td>1.149682e+14</td>\n",
       "      <td>3.083014e+03</td>\n",
       "      <td>8.057126</td>\n",
       "      <td>29.388110</td>\n",
       "      <td>28.883846</td>\n",
       "      <td>4.368851</td>\n",
       "      <td>19.664322</td>\n",
       "      <td>8.225650</td>\n",
       "      <td>6.347041</td>\n",
       "      <td>0.0</td>\n",
       "      <td>6.066306</td>\n",
       "      <td>10.668691</td>\n",
       "      <td>NaN</td>\n",
       "      <td>NaN</td>\n",
       "      <td>9.325085</td>\n",
       "    </tr>\n",
       "    <tr>\n",
       "      <th>min</th>\n",
       "      <td>1.110002e+16</td>\n",
       "      <td>2.002475e+07</td>\n",
       "      <td>1.000000</td>\n",
       "      <td>7.070000</td>\n",
       "      <td>3.870000</td>\n",
       "      <td>0.570000</td>\n",
       "      <td>1.500000</td>\n",
       "      <td>0.000000</td>\n",
       "      <td>0.833000</td>\n",
       "      <td>1.0</td>\n",
       "      <td>-203.240000</td>\n",
       "      <td>0.000000</td>\n",
       "      <td>NaN</td>\n",
       "      <td>NaN</td>\n",
       "      <td>0.212000</td>\n",
       "    </tr>\n",
       "    <tr>\n",
       "      <th>25%</th>\n",
       "      <td>1.120396e+16</td>\n",
       "      <td>2.002754e+07</td>\n",
       "      <td>1.000000</td>\n",
       "      <td>20.465000</td>\n",
       "      <td>20.210000</td>\n",
       "      <td>3.030000</td>\n",
       "      <td>9.890000</td>\n",
       "      <td>7.120000</td>\n",
       "      <td>5.750000</td>\n",
       "      <td>1.0</td>\n",
       "      <td>-1.950000</td>\n",
       "      <td>0.780000</td>\n",
       "      <td>NaN</td>\n",
       "      <td>NaN</td>\n",
       "      <td>3.996667</td>\n",
       "    </tr>\n",
       "    <tr>\n",
       "      <th>50%</th>\n",
       "      <td>1.130431e+16</td>\n",
       "      <td>2.003023e+07</td>\n",
       "      <td>5.000000</td>\n",
       "      <td>29.980000</td>\n",
       "      <td>30.330000</td>\n",
       "      <td>4.480000</td>\n",
       "      <td>16.170000</td>\n",
       "      <td>8.890000</td>\n",
       "      <td>6.990000</td>\n",
       "      <td>1.0</td>\n",
       "      <td>-0.350000</td>\n",
       "      <td>1.680000</td>\n",
       "      <td>NaN</td>\n",
       "      <td>NaN</td>\n",
       "      <td>7.865833</td>\n",
       "    </tr>\n",
       "    <tr>\n",
       "      <th>75%</th>\n",
       "      <td>1.140163e+16</td>\n",
       "      <td>2.003288e+07</td>\n",
       "      <td>12.000000</td>\n",
       "      <td>43.150000</td>\n",
       "      <td>43.057500</td>\n",
       "      <td>6.410000</td>\n",
       "      <td>25.130000</td>\n",
       "      <td>11.230000</td>\n",
       "      <td>9.500000</td>\n",
       "      <td>1.0</td>\n",
       "      <td>1.400000</td>\n",
       "      <td>5.880000</td>\n",
       "      <td>NaN</td>\n",
       "      <td>NaN</td>\n",
       "      <td>15.215000</td>\n",
       "    </tr>\n",
       "    <tr>\n",
       "      <th>max</th>\n",
       "      <td>1.149996e+16</td>\n",
       "      <td>2.003588e+07</td>\n",
       "      <td>150.000000</td>\n",
       "      <td>916.770000</td>\n",
       "      <td>901.140000</td>\n",
       "      <td>137.520000</td>\n",
       "      <td>687.240000</td>\n",
       "      <td>219.910000</td>\n",
       "      <td>250.000000</td>\n",
       "      <td>1.0</td>\n",
       "      <td>151.070000</td>\n",
       "      <td>317.520000</td>\n",
       "      <td>NaN</td>\n",
       "      <td>NaN</td>\n",
       "      <td>123.460000</td>\n",
       "    </tr>\n",
       "  </tbody>\n",
       "</table>\n",
       "</div>"
      ],
      "text/plain": [
       "       Sales Order Number  Fulfillment Order Number     Quantity  Total Sales  \\\n",
       "count        7.462000e+03              7.462000e+03  7462.000000  7462.000000   \n",
       "mean         1.130230e+16              2.003024e+07     6.532029    35.280478   \n",
       "std          1.149682e+14              3.083014e+03     8.057126    29.388110   \n",
       "min          1.110002e+16              2.002475e+07     1.000000     7.070000   \n",
       "25%          1.120396e+16              2.002754e+07     1.000000    20.465000   \n",
       "50%          1.130431e+16              2.003023e+07     5.000000    29.980000   \n",
       "75%          1.140163e+16              2.003288e+07    12.000000    43.150000   \n",
       "max          1.149996e+16              2.003588e+07   150.000000   916.770000   \n",
       "\n",
       "        Total Cost   Commission  Inventory Cost  Estimated Shipping Cost  \\\n",
       "count  7462.000000  7462.000000     7462.000000              7462.000000   \n",
       "mean     35.239589     5.188621       20.088445                 9.962522   \n",
       "std      28.883846     4.368851       19.664322                 8.225650   \n",
       "min       3.870000     0.570000        1.500000                 0.000000   \n",
       "25%      20.210000     3.030000        9.890000                 7.120000   \n",
       "50%      30.330000     4.480000       16.170000                 8.890000   \n",
       "75%      43.057500     6.410000       25.130000                11.230000   \n",
       "max     901.140000   137.520000      687.240000               219.910000   \n",
       "\n",
       "       Shipping Cost    Flag       Profit       Weight  Unnamed: 16  \\\n",
       "count    7462.000000  7462.0  7462.000000  7462.000000          0.0   \n",
       "mean        8.086764     1.0     0.040890     5.303246          NaN   \n",
       "std         6.347041     0.0     6.066306    10.668691          NaN   \n",
       "min         0.833000     1.0  -203.240000     0.000000          NaN   \n",
       "25%         5.750000     1.0    -1.950000     0.780000          NaN   \n",
       "50%         6.990000     1.0    -0.350000     1.680000          NaN   \n",
       "75%         9.500000     1.0     1.400000     5.880000          NaN   \n",
       "max       250.000000     1.0   151.070000   317.520000          NaN   \n",
       "\n",
       "       Unnamed: 17   Unit_price  \n",
       "count          0.0  7462.000000  \n",
       "mean           NaN    10.837697  \n",
       "std            NaN     9.325085  \n",
       "min            NaN     0.212000  \n",
       "25%            NaN     3.996667  \n",
       "50%            NaN     7.865833  \n",
       "75%            NaN    15.215000  \n",
       "max            NaN   123.460000  "
      ]
     },
     "execution_count": 5,
     "metadata": {},
     "output_type": "execute_result"
    }
   ],
   "source": [
    "data.describe()"
   ]
  },
  {
   "cell_type": "code",
   "execution_count": 6,
   "metadata": {},
   "outputs": [
    {
     "name": "stderr",
     "output_type": "stream",
     "text": [
      "/Library/Frameworks/Python.framework/Versions/3.8/lib/python3.8/site-packages/seaborn/distributions.py:2557: FutureWarning: `distplot` is a deprecated function and will be removed in a future version. Please adapt your code to use either `displot` (a figure-level function with similar flexibility) or `histplot` (an axes-level function for histograms).\n",
      "  warnings.warn(msg, FutureWarning)\n"
     ]
    },
    {
     "data": {
      "text/plain": [
       "(0.0, 60.0)"
      ]
     },
     "execution_count": 6,
     "metadata": {},
     "output_type": "execute_result"
    },
    {
     "data": {
      "image/png": "[encoded data removed]",
      "text/plain": [
       "<Figure size 432x288 with 1 Axes>"
      ]
     },
     "metadata": {
      "needs_background": "light"
     },
     "output_type": "display_data"
    }
   ],
   "source": [
    "# Check Weight data\n",
    "sns.distplot(data['Weight'])\n",
    "plt.xlim(0, 60)"
   ]
  },
  {
   "cell_type": "markdown",
   "metadata": {},
   "source": [
    "##### Remove Outlier"
   ]
  },
  {
   "cell_type": "code",
   "execution_count": 7,
   "metadata": {},
   "outputs": [
    {
     "name": "stdout",
     "output_type": "stream",
     "text": [
      "Shape of train before outlier  (7462, 19)\n",
      "Shape of train after outlier  (7400, 19)\n"
     ]
    }
   ],
   "source": [
    "# Remove outlier\n",
    "print('Shape of train before outlier ', data.shape)\n",
    "data = data[np.abs(data['Weight']) - data['Weight'].mean() <= 4 * data['Weight'].std()]\n",
    "print('Shape of train after outlier ', data.shape)"
   ]
  },
  {
   "cell_type": "markdown",
   "metadata": {},
   "source": [
    "### Run Random Forest Regressor Model with variable - Weight"
   ]
  },
  {
   "cell_type": "code",
   "execution_count": 8,
   "metadata": {},
   "outputs": [],
   "source": [
    "from sklearn.model_selection import train_test_split\n",
    "from sklearn.ensemble import RandomForestRegressor\n",
    "\n",
    "diff_pred_invoice_list = []\n",
    "diff_evp_invoice_list = []\n",
    "\n",
    "for i in range(10):\n",
    "    # Split train data & test data\n",
    "    x_train, x_test, y_train, y_test = train_test_split(\n",
    "            data['Weight'], data['Estimated Shipping Cost'], test_size=0.25, random_state=i)\n",
    "\n",
    "    # Run DecisionTreeRegressor\n",
    "    model = RandomForestRegressor(n_estimators=1000, random_state=i)\n",
    "    \n",
    "    # Change Series to Numpy\n",
    "    x_train_np = x_train.to_numpy()\n",
    "    x_train_np = x_train_np.reshape(-1,1)\n",
    "    x_test_np = x_test.to_numpy()\n",
    "    x_test_np = x_test_np.reshape(-1,1)\n",
    "    y_test_np = y_test.to_numpy()\n",
    "    y_test_np = y_test_np.reshape(-1,1)\n",
    "\n",
    "    # Model fitting & predict\n",
    "    model.fit(x_train_np, y_train)\n",
    "    prediction = model.predict(x_test_np)\n",
    "    prediction = prediction.reshape(-1,1)\n",
    "\n",
    "    # Prediction VS Invoice\n",
    "    diff = prediction - y_test_np\n",
    "    diff_pred_invoice = diff.mean()\n",
    "\n",
    "    # EVP VS Invoice\n",
    "    test_data = data.loc[y_test.index.values,:]\n",
    "    diff = test_data['Shipping Cost']- test_data['Estimated Shipping Cost']\n",
    "    diff_np = diff.to_numpy()\n",
    "    diff_np = diff_np.reshape(-1,1)\n",
    "    diff_evp_invoice = diff_np.mean()\n",
    "    \n",
    "    diff_pred_invoice_list.append(diff_pred_invoice)\n",
    "    diff_evp_invoice_list.append(diff_evp_invoice)"
   ]
  },
  {
   "cell_type": "markdown",
   "metadata": {},
   "source": [
    "### Model Result - Random Forest Regressor Model with variable - Weight"
   ]
  },
  {
   "cell_type": "code",
   "execution_count": 9,
   "metadata": {
    "scrolled": true
   },
   "outputs": [
    {
     "name": "stdout",
     "output_type": "stream",
     "text": [
      "10 Means of difference between UNFI cost model & Invoice data: \n",
      "\n",
      "1 Difference:  -0.1186\n",
      "2 Difference:  0.1156\n",
      "3 Difference:  0.0874\n",
      "4 Difference:  -0.0759\n",
      "5 Difference:  -0.0914\n",
      "6 Difference:  0.1535\n",
      "7 Difference:  0.0717\n",
      "8 Difference:  0.0664\n",
      "9 Difference:  -0.0836\n",
      "10 Difference:  0.0969\n",
      "\n",
      "Total Means of Deviation(absolute value):  0.096\n",
      "\n",
      "10 Means of difference between EVP cost model & Invoice data: \n",
      "\n",
      "1 Difference:  -1.8325\n",
      "2 Difference:  -1.7199\n",
      "3 Difference:  -1.6703\n",
      "4 Difference:  -1.8503\n",
      "5 Difference:  -1.8042\n",
      "6 Difference:  -1.6218\n",
      "7 Difference:  -1.7123\n",
      "8 Difference:  -1.5781\n",
      "9 Difference:  -1.7825\n",
      "10 Difference:  -1.6388\n",
      "\n",
      "Total Means of Deviation(absolute value):  1.721\n"
     ]
    }
   ],
   "source": [
    "# Variables: Weight\n",
    "print('10 Means of difference cost model & Invoice data: \\n')\n",
    "for rank, value in enumerate(diff_pred_invoice_list):\n",
    "    rank += 1\n",
    "    print(rank, 'Difference: ',round(value,4))\n",
    "abs_list_unfi_model = np.abs(diff_pred_invoice_list)\n",
    "print('\\nTotal Means of Deviation(absolute value): ', round(sum(abs_list_unfi_model)/ len(abs_list_unfi_model), 3))\n",
    "\n",
    "print('\\n10 Means of difference between original cost model & Invoice data: \\n')\n",
    "for rank, value in enumerate(diff_evp_invoice_list):\n",
    "    rank += 1\n",
    "    print(rank, 'Difference: ',round(value,4))\n",
    "abs_list_evp_model = np.abs(diff_evp_invoice_list)\n",
    "print('\\nTotal Means of Deviation(absolute value): ', round(sum(abs_list_evp_model)/ len(abs_list_evp_model), 3))"
   ]
  },
  {
   "cell_type": "markdown",
   "metadata": {},
   "source": [
    "### Run Random Forest Regressor Model with variables - Weight, Unit price"
   ]
  },
  {
   "cell_type": "code",
   "execution_count": 154,
   "metadata": {},
   "outputs": [],
   "source": [
    "from sklearn.model_selection import train_test_split\n",
    "from sklearn.ensemble import RandomForestRegressor\n",
    "\n",
    "diff_pred_invoice_list = []\n",
    "diff_evp_invoice_list = []\n",
    "\n",
    "for i in range(10):\n",
    "    # Split train data & test data\n",
    "    x_train, x_test, y_train, y_test = train_test_split(\n",
    "            data[['Weight','Unit_price']], data['Estimated Shipping Cost'], test_size=0.25, random_state=i)\n",
    "\n",
    "    # Run DecisionTreeRegressor\n",
    "    model = RandomForestRegressor(n_estimators=1000, random_state=i)\n",
    "    \n",
    "    # Model fitting & predict\n",
    "    model.fit(x_train, y_train)\n",
    "    prediction = model.predict(x_test)\n",
    "\n",
    "    # Prediction VS Invoice\n",
    "    diff = prediction - y_test\n",
    "    diff_pred_invoice = diff.mean()\n",
    "\n",
    "    # EVP VS Invoice\n",
    "    test_data = data.loc[y_test.index.values,:]\n",
    "    diff = test_data['Shipping Cost']- test_data['Estimated Shipping Cost']\n",
    "    diff_np = diff.to_numpy()\n",
    "    diff_evp_invoice = diff_np.mean()\n",
    "    \n",
    "    diff_pred_invoice_list.append(diff_pred_invoice)\n",
    "    diff_evp_invoice_list.append(diff_evp_invoice)"
   ]
  },
  {
   "cell_type": "markdown",
   "metadata": {},
   "source": [
    "### Model Result - Random Forest Regressor Model with variables - Weight, Unit Price"
   ]
  },
  {
   "cell_type": "code",
   "execution_count": 156,
   "metadata": {},
   "outputs": [
    {
     "name": "stdout",
     "output_type": "stream",
     "text": [
      "10 Means of difference between UNFI cost model & Invoice data: \n",
      "\n",
      "1 Difference:  -0.0246\n",
      "2 Difference:  0.1081\n",
      "3 Difference:  -0.2477\n",
      "4 Difference:  0.0959\n",
      "5 Difference:  0.0634\n",
      "6 Difference:  0.0032\n",
      "7 Difference:  0.1988\n",
      "8 Difference:  0.1496\n",
      "9 Difference:  -0.1063\n",
      "10 Difference:  -0.0818\n",
      "\n",
      "Total Means of Deviation(absolute value):  0.108\n",
      "\n",
      "10 Means of difference between EVP cost model & Invoice data: \n",
      "\n",
      "1 Difference:  -1.9878\n",
      "2 Difference:  -1.7342\n",
      "3 Difference:  -2.0486\n",
      "4 Difference:  -1.8388\n",
      "5 Difference:  -1.7205\n",
      "6 Difference:  -1.9493\n",
      "7 Difference:  -1.752\n",
      "8 Difference:  -1.9104\n",
      "9 Difference:  -2.0526\n",
      "10 Difference:  -1.9806\n",
      "\n",
      "Total Means of Deviation(absolute value):  1.897\n"
     ]
    }
   ],
   "source": [
    "# Variables: Weight, Unit Price\n",
    "print('10 Means of difference between cost model & Invoice data: \\n')\n",
    "for rank, value in enumerate(diff_pred_invoice_list):\n",
    "    rank += 1\n",
    "    print(rank, 'Difference: ',round(value,4))\n",
    "abs_list_unfi_model = np.abs(diff_pred_invoice_list)\n",
    "print('\\nTotal Means of Deviation(absolute value): ', round(sum(abs_list_unfi_model)/ len(abs_list_unfi_model), 3))\n",
    "\n",
    "print('\\n10 Means of difference between original cost model & Invoice data: \\n')\n",
    "for rank, value in enumerate(diff_evp_invoice_list):\n",
    "    rank += 1\n",
    "    print(rank, 'Difference: ',round(value,4))\n",
    "abs_list_evp_model = np.abs(diff_evp_invoice_list)\n",
    "print('\\nTotal Means of Deviation(absolute value): ', round(sum(abs_list_evp_model)/ len(abs_list_evp_model), 3))"
   ]
  }
 ],
 "metadata": {
  "kernelspec": {
   "display_name": "Python 3",
   "language": "python",
   "name": "python3"
  },
  "language_info": {
   "codemirror_mode": {
    "name": "ipython",
    "version": 3
   },
   "file_extension": ".py",
   "mimetype": "text/x-python",
   "name": "python",
   "nbconvert_exporter": "python",
   "pygments_lexer": "ipython3",
   "version": "3.8.5"
  }
 },
 "nbformat": 4,
 "nbformat_minor": 4
}
