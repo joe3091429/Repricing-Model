{
 "cells": [
  {
   "cell_type": "code",
   "execution_count": 1,
   "metadata": {},
   "outputs": [],
   "source": [
    "## Make more wider with all jupyter layout\n",
    "#from IPython.core.display import display, HTML\n",
    "#display(HTML(\"<style>.container { width:100% !important; }</style>\"))"
   ]
  },
  {
   "cell_type": "code",
   "execution_count": 2,
   "metadata": {},
   "outputs": [],
   "source": [
    "################################################################################################################################################################################################################################################################################################################################################\n",
    "# Purpose: Analyze profits by each SKU\n",
    "#\n",
    "# Input: 1 csv files \n",
    "#        Data: Optimized Analysis Table, monthly csv file\n",
    "#        Note1: Here We use 1 csv file for December 2020\n",
    "# \n",
    "# Required Columns: [Sales Sku, Sales Order Number, Sales Order Date, Sales Channel Name, Fulfillment Item Id, Fulfillment Sku, Fulfillment Order Number, Fulfillment Channel Name, Fulfillment Channel Type, Quantity, Sku, Total Sales, Total Cost, Commission, Inventory Cost, Estimated Shipping Cost, Invoice Shipping Cost, Profit, Flag]\n",
    "#        Note1: Before running this program, check column names in Sales Analysis Table, especially empty spaces.\n",
    "#\n",
    "# Output: 1 xlsx file\n",
    "#        xlsx: Top/Bottom 20 profitable SKUs in a month\n",
    "# \n",
    "# Customized configuration - Only need to change variables below: \n",
    "# * data           <- csv file of Optimized Analysis Table\n",
    "# * pd.ExcelWriter <- Path of excel output file\n",
    "#\n",
    "# Optional Comments: If you want to create a text file for output, please refer to the comment (# Write in a text file)\n",
    "#\n",
    "################################################################################################################################################################################################################################################################################################################################################"
   ]
  },
  {
   "cell_type": "code",
   "execution_count": 1,
   "metadata": {},
   "outputs": [],
   "source": [
    "import pandas as pd\n",
    "import numpy as np\n",
    "pd.set_option('display.max_columns', 500)\n",
    "pd.set_option('display.width', 1000)"
   ]
  },
  {
   "cell_type": "code",
   "execution_count": 2,
   "metadata": {},
   "outputs": [],
   "source": [
    "# Creating Excel Writer Object from Pandas  \n",
    "writer = pd.ExcelWriter('output/analysis_result/Profit_Analysis_by_SKU.xlsx',engine='xlsxwriter', mode='w')   \n",
    "workbook = writer.book\n",
    "\n",
    "data = pd.read_csv('data/optimized_analysis_table_dec.csv') \n",
    "\n",
    "# Keep columns: Sku, Profit, Vendors\n",
    "data = data[['Sku', 'Total Sales', 'Profit', 'Fulfillment Channel Name']]\n",
    "\n",
    "# Group by sku\n",
    "agg_data = data.groupby('Sku').agg({'Total Sales': sum, 'Profit':sum, 'Sku':len}) \\\n",
    "                              .rename(columns={'Sku': 'Orders'})\n",
    "agg_data['Margin'] = round(agg_data['Profit'] / agg_data['Total Sales'],2)\n",
    "vendor_col = data.groupby('Sku')['Fulfillment Channel Name'].unique()\n",
    "agg_data_with_vendors = pd.concat([agg_data, vendor_col], axis=1)\n",
    "\n",
    "# Sort by total profits\n",
    "sort_agg_data_with_vendors = agg_data_with_vendors.sort_values(by=['Profit'], ascending=False)\n",
    "\n",
    "# Monthly Top 20 profits\n",
    "top20_profit_data = sort_agg_data_with_vendors[:20]\n",
    "\n",
    "# Monthly Top 20 losses\n",
    "sort_bottom_agg_data_with_vendors = agg_data_with_vendors.sort_values(by=['Profit'], ascending=True)\n",
    "bottom20_profit_data = sort_bottom_agg_data_with_vendors[:20]\n",
    "\n",
    "# Write in a text file\n",
    "#with open('analysis_result/Profit_Analysis_bySKU.txt', 'w') as f:\n",
    "#    f.write('Monthly Top 20 profitable skus: \\n')\n",
    "#    f.write(top20_profit_data.__repr__())\n",
    "#    f.write('\\n\\nMonthly Bottom 20 profitable skus: \\n')\n",
    "#    f.write(bottom20_profit_data.__repr__())\n",
    "\n",
    "# Write data in Excel file\n",
    "v = 'Monthly_Top20_Skus'\n",
    "worksheet=workbook.add_worksheet(v)\n",
    "writer.sheets[v] = worksheet\n",
    "worksheet.write_string(0, 0, 'Monthly Top 20 profitable skus: ')\n",
    "top20_profit_data.to_excel(writer,sheet_name=v,startrow=1 , startcol=0)   \n",
    "worksheet.write_string(23, 0, 'Monthly Bottom 20 profitable skus: ')\n",
    "bottom20_profit_data.to_excel(writer,sheet_name=v,startrow=24, startcol=0)\n",
    "\n",
    "# Save file of .xlsx\n",
    "writer.save()"
   ]
  },
  {
   "cell_type": "code",
   "execution_count": null,
   "metadata": {},
   "outputs": [],
   "source": []
  }
 ],
 "metadata": {
  "kernelspec": {
   "display_name": "Python 3",
   "language": "python",
   "name": "python3"
  },
  "language_info": {
   "codemirror_mode": {
    "name": "ipython",
    "version": 3
   },
   "file_extension": ".py",
   "mimetype": "text/x-python",
   "name": "python",
   "nbconvert_exporter": "python",
   "pygments_lexer": "ipython3",
   "version": "3.8.5"
  }
 },
 "nbformat": 4,
 "nbformat_minor": 4
}
